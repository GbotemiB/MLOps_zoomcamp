{
 "cells": [
  {
   "cell_type": "code",
   "execution_count": 69,
   "metadata": {},
   "outputs": [],
   "source": [
    "import mlflow\n",
    "import pandas as pd"
   ]
  },
  {
   "cell_type": "code",
   "execution_count": 46,
   "metadata": {},
   "outputs": [],
   "source": [
    "from mlflow.tracking import MlflowClient\n",
    "\n",
    "MLFLOW_TRACKING_URI = \"sqlite:///mlflow.db\"\n",
    "\n",
    "client = MlflowClient(tracking_uri=MLFLOW_TRACKING_URI)"
   ]
  },
  {
   "cell_type": "code",
   "execution_count": 8,
   "metadata": {},
   "outputs": [
    {
     "data": {
      "text/plain": [
       "<Experiment: artifact_location='/home/azureuser/MLOps_zoomcamp/notebooks/mlruns/0', creation_time=1685564918509, experiment_id='0', last_update_time=1685564918509, lifecycle_stage='active', name='Default', tags={}>"
      ]
     },
     "execution_count": 8,
     "metadata": {},
     "output_type": "execute_result"
    }
   ],
   "source": [
    "client.get_experiment('0')"
   ]
  },
  {
   "cell_type": "code",
   "execution_count": 11,
   "metadata": {},
   "outputs": [
    {
     "data": {
      "text/plain": [
       "'2'"
      ]
     },
     "execution_count": 11,
     "metadata": {},
     "output_type": "execute_result"
    }
   ],
   "source": [
    "client.create_experiment(name=\"project-experiment\")"
   ]
  },
  {
   "cell_type": "code",
   "execution_count": 47,
   "metadata": {},
   "outputs": [],
   "source": [
    "from mlflow.entities import ViewType\n",
    "\n",
    "runs = client.search_runs(\n",
    "    experiment_ids='1',\n",
    "    filter_string=\"metrics.rmse > 7\",\n",
    "    run_view_type=ViewType.ACTIVE_ONLY,\n",
    "    max_results=5,\n",
    "    order_by=[\"metrics.rmse ASC\"]\n",
    ")"
   ]
  },
  {
   "cell_type": "code",
   "execution_count": 52,
   "metadata": {},
   "outputs": [
    {
     "data": {
      "text/plain": [
       "<Run: data=<RunData: metrics={'rmse': 8.239120596247158}, params={'learning_rate': '0.15067400192366745',\n",
       " 'max_depth': '81',\n",
       " 'min_child_weight': '0.6161995993252231',\n",
       " 'objective': 'reg:linear',\n",
       " 'reg_alpha': '0.2870724406903693',\n",
       " 'reg_lambda': '0.023563243579993714',\n",
       " 'seed': '42'}, tags={'mlflow.runName': 'wistful-whale-750',\n",
       " 'mlflow.source.name': '/home/azureuser/anaconda3/lib/python3.10/site-packages/ipykernel_launcher.py',\n",
       " 'mlflow.source.type': 'LOCAL',\n",
       " 'mlflow.user': 'azureuser',\n",
       " 'model': 'xgboost'}>, info=<RunInfo: artifact_uri='/home/azureuser/MLOps_zoomcamp/notebooks/mlruns/1/3a78bedb3e754bcd91b9cd55cbf9b1fa/artifacts', end_time=1685566495400, experiment_id='1', lifecycle_stage='active', run_id='3a78bedb3e754bcd91b9cd55cbf9b1fa', run_name='wistful-whale-750', run_uuid='3a78bedb3e754bcd91b9cd55cbf9b1fa', start_time=1685566481467, status='FINISHED', user_id='azureuser'>>"
      ]
     },
     "execution_count": 52,
     "metadata": {},
     "output_type": "execute_result"
    }
   ],
   "source": [
    "run"
   ]
  },
  {
   "cell_type": "code",
   "execution_count": 48,
   "metadata": {},
   "outputs": [
    {
     "name": "stdout",
     "output_type": "stream",
     "text": [
      "run id: db84e9beb0344770a4a98c5d95db9178, status:FINISHED, rmse: 7.7587\n",
      "run id: d15b2895cd294d99bb19c3490c776ba0, status:FINISHED, rmse: 7.7587\n",
      "run id: e9e0edd823e34ec2991ad75bcc463cbf, status:FINISHED, rmse: 7.7587\n",
      "run id: 8ca3efb074af4b3ca79cf415ec78bb82, status:FINISHED, rmse: 8.1343\n",
      "run id: 3a78bedb3e754bcd91b9cd55cbf9b1fa, status:FINISHED, rmse: 8.2391\n"
     ]
    }
   ],
   "source": [
    "for run in runs:\n",
    "    print(f\"run id: {run.info.run_id}, status:{run.info.status}, rmse: {run.data.metrics['rmse']:.4f}\")"
   ]
  },
  {
   "cell_type": "code",
   "execution_count": 78,
   "metadata": {},
   "outputs": [
    {
     "name": "stderr",
     "output_type": "stream",
     "text": [
      "Registered model 'nyc-taxi-models' already exists. Creating a new version of this model...\n"
     ]
    },
    {
     "ename": "MissingConfigException",
     "evalue": "Yaml file '/home/azureuser/MLOps_zoomcamp/notebooks/mlruns/1/6bd3ebb0fe124d3f95c09bd65203dae8/meta.yaml' does not exist.",
     "output_type": "error",
     "traceback": [
      "\u001b[0;31m---------------------------------------------------------------------------\u001b[0m",
      "\u001b[0;31mMissingConfigException\u001b[0m                    Traceback (most recent call last)",
      "Cell \u001b[0;32mIn[78], line 3\u001b[0m\n\u001b[1;32m      1\u001b[0m run_id \u001b[39m=\u001b[39m \u001b[39m\"\u001b[39m\u001b[39m6bd3ebb0fe124d3f95c09bd65203dae8\u001b[39m\u001b[39m\"\u001b[39m\n\u001b[1;32m      2\u001b[0m model_uri \u001b[39m=\u001b[39m \u001b[39mf\u001b[39m\u001b[39m\"\u001b[39m\u001b[39mruns:/\u001b[39m\u001b[39m{\u001b[39;00mrun_id\u001b[39m}\u001b[39;00m\u001b[39m/models\u001b[39m\u001b[39m\"\u001b[39m\n\u001b[0;32m----> 3\u001b[0m mlflow\u001b[39m.\u001b[39;49mregister_model(model_uri\u001b[39m=\u001b[39;49mmodel_uri, name\u001b[39m=\u001b[39;49m\u001b[39m\"\u001b[39;49m\u001b[39mnyc-taxi-models\u001b[39;49m\u001b[39m\"\u001b[39;49m)\n",
      "File \u001b[0;32m~/anaconda3/lib/python3.10/site-packages/mlflow/tracking/_model_registry/fluent.py:86\u001b[0m, in \u001b[0;36mregister_model\u001b[0;34m(model_uri, name, await_registration_for, tags)\u001b[0m\n\u001b[1;32m     83\u001b[0m         \u001b[39mraise\u001b[39;00m e\n\u001b[1;32m     85\u001b[0m \u001b[39mif\u001b[39;00m RunsArtifactRepository\u001b[39m.\u001b[39mis_runs_uri(model_uri):\n\u001b[0;32m---> 86\u001b[0m     source \u001b[39m=\u001b[39m RunsArtifactRepository\u001b[39m.\u001b[39;49mget_underlying_uri(model_uri)\n\u001b[1;32m     87\u001b[0m     (run_id, _) \u001b[39m=\u001b[39m RunsArtifactRepository\u001b[39m.\u001b[39mparse_runs_uri(model_uri)\n\u001b[1;32m     88\u001b[0m     create_version_response \u001b[39m=\u001b[39m client\u001b[39m.\u001b[39mcreate_model_version(\n\u001b[1;32m     89\u001b[0m         name, source, run_id, tags\u001b[39m=\u001b[39mtags, await_creation_for\u001b[39m=\u001b[39mawait_registration_for\n\u001b[1;32m     90\u001b[0m     )\n",
      "File \u001b[0;32m~/anaconda3/lib/python3.10/site-packages/mlflow/store/artifact/runs_artifact_repo.py:39\u001b[0m, in \u001b[0;36mRunsArtifactRepository.get_underlying_uri\u001b[0;34m(runs_uri)\u001b[0m\n\u001b[1;32m     37\u001b[0m (run_id, artifact_path) \u001b[39m=\u001b[39m RunsArtifactRepository\u001b[39m.\u001b[39mparse_runs_uri(runs_uri)\n\u001b[1;32m     38\u001b[0m tracking_uri \u001b[39m=\u001b[39m get_databricks_profile_uri_from_artifact_uri(runs_uri)\n\u001b[0;32m---> 39\u001b[0m uri \u001b[39m=\u001b[39m get_artifact_uri(run_id, artifact_path, tracking_uri)\n\u001b[1;32m     40\u001b[0m \u001b[39massert\u001b[39;00m \u001b[39mnot\u001b[39;00m RunsArtifactRepository\u001b[39m.\u001b[39mis_runs_uri(uri)  \u001b[39m# avoid an infinite loop\u001b[39;00m\n\u001b[1;32m     41\u001b[0m \u001b[39mreturn\u001b[39;00m add_databricks_profile_info_to_artifact_uri(uri, tracking_uri)\n",
      "File \u001b[0;32m~/anaconda3/lib/python3.10/site-packages/mlflow/tracking/artifact_utils.py:47\u001b[0m, in \u001b[0;36mget_artifact_uri\u001b[0;34m(run_id, artifact_path, tracking_uri)\u001b[0m\n\u001b[1;32m     41\u001b[0m     \u001b[39mraise\u001b[39;00m MlflowException(\n\u001b[1;32m     42\u001b[0m         message\u001b[39m=\u001b[39m\u001b[39m\"\u001b[39m\u001b[39mA run_id must be specified in order to obtain an artifact uri!\u001b[39m\u001b[39m\"\u001b[39m,\n\u001b[1;32m     43\u001b[0m         error_code\u001b[39m=\u001b[39mINVALID_PARAMETER_VALUE,\n\u001b[1;32m     44\u001b[0m     )\n\u001b[1;32m     46\u001b[0m store \u001b[39m=\u001b[39m _get_store(tracking_uri)\n\u001b[0;32m---> 47\u001b[0m run \u001b[39m=\u001b[39m store\u001b[39m.\u001b[39;49mget_run(run_id)\n\u001b[1;32m     48\u001b[0m \u001b[39m# Maybe move this method to RunsArtifactRepository so the circular dependency is clearer.\u001b[39;00m\n\u001b[1;32m     49\u001b[0m \u001b[39massert\u001b[39;00m urllib\u001b[39m.\u001b[39mparse\u001b[39m.\u001b[39murlparse(run\u001b[39m.\u001b[39minfo\u001b[39m.\u001b[39martifact_uri)\u001b[39m.\u001b[39mscheme \u001b[39m!=\u001b[39m \u001b[39m\"\u001b[39m\u001b[39mruns\u001b[39m\u001b[39m\"\u001b[39m  \u001b[39m# avoid an infinite loop\u001b[39;00m\n",
      "File \u001b[0;32m~/anaconda3/lib/python3.10/site-packages/mlflow/store/tracking/file_store.py:647\u001b[0m, in \u001b[0;36mFileStore.get_run\u001b[0;34m(self, run_id)\u001b[0m\n\u001b[1;32m    643\u001b[0m \u001b[39m\"\"\"\u001b[39;00m\n\u001b[1;32m    644\u001b[0m \u001b[39mNote: Will get both active and deleted runs.\u001b[39;00m\n\u001b[1;32m    645\u001b[0m \u001b[39m\"\"\"\u001b[39;00m\n\u001b[1;32m    646\u001b[0m _validate_run_id(run_id)\n\u001b[0;32m--> 647\u001b[0m run_info \u001b[39m=\u001b[39m \u001b[39mself\u001b[39;49m\u001b[39m.\u001b[39;49m_get_run_info(run_id)\n\u001b[1;32m    648\u001b[0m \u001b[39mif\u001b[39;00m run_info \u001b[39mis\u001b[39;00m \u001b[39mNone\u001b[39;00m:\n\u001b[1;32m    649\u001b[0m     \u001b[39mraise\u001b[39;00m MlflowException(\n\u001b[1;32m    650\u001b[0m         \u001b[39m\"\u001b[39m\u001b[39mRun \u001b[39m\u001b[39m'\u001b[39m\u001b[39m%s\u001b[39;00m\u001b[39m'\u001b[39m\u001b[39m metadata is in invalid state.\u001b[39m\u001b[39m\"\u001b[39m \u001b[39m%\u001b[39m run_id, databricks_pb2\u001b[39m.\u001b[39mINVALID_STATE\n\u001b[1;32m    651\u001b[0m     )\n",
      "File \u001b[0;32m~/anaconda3/lib/python3.10/site-packages/mlflow/store/tracking/file_store.py:673\u001b[0m, in \u001b[0;36mFileStore._get_run_info\u001b[0;34m(self, run_uuid)\u001b[0m\n\u001b[1;32m    669\u001b[0m \u001b[39mif\u001b[39;00m run_dir \u001b[39mis\u001b[39;00m \u001b[39mNone\u001b[39;00m:\n\u001b[1;32m    670\u001b[0m     \u001b[39mraise\u001b[39;00m MlflowException(\n\u001b[1;32m    671\u001b[0m         \u001b[39m\"\u001b[39m\u001b[39mRun \u001b[39m\u001b[39m'\u001b[39m\u001b[39m%s\u001b[39;00m\u001b[39m'\u001b[39m\u001b[39m not found\u001b[39m\u001b[39m\"\u001b[39m \u001b[39m%\u001b[39m run_uuid, databricks_pb2\u001b[39m.\u001b[39mRESOURCE_DOES_NOT_EXIST\n\u001b[1;32m    672\u001b[0m     )\n\u001b[0;32m--> 673\u001b[0m run_info \u001b[39m=\u001b[39m \u001b[39mself\u001b[39;49m\u001b[39m.\u001b[39;49m_get_run_info_from_dir(run_dir)\n\u001b[1;32m    674\u001b[0m \u001b[39mif\u001b[39;00m run_info\u001b[39m.\u001b[39mexperiment_id \u001b[39m!=\u001b[39m exp_id:\n\u001b[1;32m    675\u001b[0m     \u001b[39mraise\u001b[39;00m MlflowException(\n\u001b[1;32m    676\u001b[0m         \u001b[39m\"\u001b[39m\u001b[39mRun \u001b[39m\u001b[39m'\u001b[39m\u001b[39m%s\u001b[39;00m\u001b[39m'\u001b[39m\u001b[39m metadata is in invalid state.\u001b[39m\u001b[39m\"\u001b[39m \u001b[39m%\u001b[39m run_uuid, databricks_pb2\u001b[39m.\u001b[39mINVALID_STATE\n\u001b[1;32m    677\u001b[0m     )\n",
      "File \u001b[0;32m~/anaconda3/lib/python3.10/site-packages/mlflow/store/tracking/file_store.py:681\u001b[0m, in \u001b[0;36mFileStore._get_run_info_from_dir\u001b[0;34m(self, run_dir)\u001b[0m\n\u001b[1;32m    680\u001b[0m \u001b[39mdef\u001b[39;00m \u001b[39m_get_run_info_from_dir\u001b[39m(\u001b[39mself\u001b[39m, run_dir):\n\u001b[0;32m--> 681\u001b[0m     meta \u001b[39m=\u001b[39m FileStore\u001b[39m.\u001b[39;49m_read_yaml(run_dir, FileStore\u001b[39m.\u001b[39;49mMETA_DATA_FILE_NAME)\n\u001b[1;32m    682\u001b[0m     run_info \u001b[39m=\u001b[39m _read_persisted_run_info_dict(meta)\n\u001b[1;32m    683\u001b[0m     \u001b[39mreturn\u001b[39;00m run_info\n",
      "File \u001b[0;32m~/anaconda3/lib/python3.10/site-packages/mlflow/store/tracking/file_store.py:1096\u001b[0m, in \u001b[0;36mFileStore._read_yaml\u001b[0;34m(root, file_name, retries)\u001b[0m\n\u001b[1;32m   1093\u001b[0m         time\u001b[39m.\u001b[39msleep(\u001b[39m0.1\u001b[39m \u001b[39m*\u001b[39m (\u001b[39m3\u001b[39m \u001b[39m-\u001b[39m attempts_remaining))\n\u001b[1;32m   1094\u001b[0m         \u001b[39mreturn\u001b[39;00m _read_helper(root, file_name, attempts_remaining \u001b[39m-\u001b[39m \u001b[39m1\u001b[39m)\n\u001b[0;32m-> 1096\u001b[0m \u001b[39mreturn\u001b[39;00m _read_helper(root, file_name, attempts_remaining\u001b[39m=\u001b[39;49mretries)\n",
      "File \u001b[0;32m~/anaconda3/lib/python3.10/site-packages/mlflow/store/tracking/file_store.py:1089\u001b[0m, in \u001b[0;36mFileStore._read_yaml.<locals>._read_helper\u001b[0;34m(root, file_name, attempts_remaining)\u001b[0m\n\u001b[1;32m   1088\u001b[0m \u001b[39mdef\u001b[39;00m \u001b[39m_read_helper\u001b[39m(root, file_name, attempts_remaining\u001b[39m=\u001b[39m\u001b[39m2\u001b[39m):\n\u001b[0;32m-> 1089\u001b[0m     result \u001b[39m=\u001b[39m read_yaml(root, file_name)\n\u001b[1;32m   1090\u001b[0m     \u001b[39mif\u001b[39;00m result \u001b[39mis\u001b[39;00m \u001b[39mnot\u001b[39;00m \u001b[39mNone\u001b[39;00m \u001b[39mor\u001b[39;00m attempts_remaining \u001b[39m==\u001b[39m \u001b[39m0\u001b[39m:\n\u001b[1;32m   1091\u001b[0m         \u001b[39mreturn\u001b[39;00m result\n",
      "File \u001b[0;32m~/anaconda3/lib/python3.10/site-packages/mlflow/utils/file_utils.py:215\u001b[0m, in \u001b[0;36mread_yaml\u001b[0;34m(root, file_name)\u001b[0m\n\u001b[1;32m    213\u001b[0m file_path \u001b[39m=\u001b[39m os\u001b[39m.\u001b[39mpath\u001b[39m.\u001b[39mjoin(root, file_name)\n\u001b[1;32m    214\u001b[0m \u001b[39mif\u001b[39;00m \u001b[39mnot\u001b[39;00m exists(file_path):\n\u001b[0;32m--> 215\u001b[0m     \u001b[39mraise\u001b[39;00m MissingConfigException(\u001b[39m\"\u001b[39m\u001b[39mYaml file \u001b[39m\u001b[39m'\u001b[39m\u001b[39m%s\u001b[39;00m\u001b[39m'\u001b[39m\u001b[39m does not exist.\u001b[39m\u001b[39m\"\u001b[39m \u001b[39m%\u001b[39m file_path)\n\u001b[1;32m    216\u001b[0m \u001b[39mtry\u001b[39;00m:\n\u001b[1;32m    217\u001b[0m     \u001b[39mwith\u001b[39;00m codecs\u001b[39m.\u001b[39mopen(file_path, mode\u001b[39m=\u001b[39m\u001b[39m\"\u001b[39m\u001b[39mr\u001b[39m\u001b[39m\"\u001b[39m, encoding\u001b[39m=\u001b[39mENCODING) \u001b[39mas\u001b[39;00m yaml_file:\n",
      "\u001b[0;31mMissingConfigException\u001b[0m: Yaml file '/home/azureuser/MLOps_zoomcamp/notebooks/mlruns/1/6bd3ebb0fe124d3f95c09bd65203dae8/meta.yaml' does not exist."
     ]
    }
   ],
   "source": [
    "run_id = \"6bd3ebb0fe124d3f95c09bd65203dae8\"\n",
    "model_uri = f\"runs:/{run_id}/models\"\n",
    "mlflow.register_model(model_uri=model_uri, name=\"nyc-taxi-models\")"
   ]
  },
  {
   "cell_type": "code",
   "execution_count": 39,
   "metadata": {},
   "outputs": [
    {
     "data": {
      "text/plain": [
       "'runs:/d5cd154e343d44918b9ac41b2f647f5a/model'"
      ]
     },
     "execution_count": 39,
     "metadata": {},
     "output_type": "execute_result"
    }
   ],
   "source": [
    "model_uri"
   ]
  },
  {
   "cell_type": "code",
   "execution_count": 62,
   "metadata": {},
   "outputs": [
    {
     "name": "stdout",
     "output_type": "stream",
     "text": [
      "version: 1, stage:Archived\n",
      "version: 2, stage:Production\n",
      "version: 3, stage:Staging\n",
      "version: 4, stage:None\n"
     ]
    }
   ],
   "source": [
    "model_name = \"nyc-taxi-models\"\n",
    "latest_version = client.get_latest_versions(name=model_name)\n",
    "\n",
    "for version in latest_version:\n",
    "    print(f\"version: {version.version}, stage:{version.current_stage}\")"
   ]
  },
  {
   "cell_type": "code",
   "execution_count": 63,
   "metadata": {},
   "outputs": [
    {
     "data": {
      "text/plain": [
       "<ModelVersion: aliases=[], creation_timestamp=1685667773771, current_stage='Staging', description='', last_updated_timestamp=1685671634019, name='nyc-taxi-models', run_id='6bd3ebb0fe124d3f95c09bd65203dae8', run_link='', source='/home/azureuser/MLOps_zoomcamp/notebooks/mlruns/1/6bd3ebb0fe124d3f95c09bd65203dae8/artifacts/model', status='READY', status_message=None, tags={}, user_id=None, version=4>"
      ]
     },
     "execution_count": 63,
     "metadata": {},
     "output_type": "execute_result"
    }
   ],
   "source": [
    "client.transition_model_version_stage(\n",
    "    name=model_name,\n",
    "    version=4,\n",
    "    stage='Staging',\n",
    "    archive_existing_versions=False\n",
    ")"
   ]
  },
  {
   "cell_type": "code",
   "execution_count": 64,
   "metadata": {},
   "outputs": [],
   "source": [
    "#client.update_model_version"
   ]
  },
  {
   "cell_type": "code",
   "execution_count": 73,
   "metadata": {},
   "outputs": [],
   "source": [
    "from sklearn.metrics import mean_squared_error\n",
    "import pandas as pd\n",
    "\n",
    "\n",
    "def read_dataframe(filename):\n",
    "    df = pd.read_parquet(filename)\n",
    "\n",
    "    df.lpep_dropoff_datetime = pd.to_datetime(df.lpep_dropoff_datetime)\n",
    "    df.lpep_pickup_datetime = pd.to_datetime(df.lpep_pickup_datetime)\n",
    "\n",
    "    df['duration'] = df.lpep_dropoff_datetime - df.lpep_pickup_datetime\n",
    "    df.duration = df.duration.apply(lambda td: td.total_seconds() / 60)\n",
    "\n",
    "    df = df[(df.duration >= 1) & (df.duration <= 60)]\n",
    "\n",
    "    categorical = ['PULocationID', 'DOLocationID']\n",
    "    df[categorical] = df[categorical].astype(str)\n",
    "    \n",
    "    return df\n",
    "\n",
    "\n",
    "def preprocess(df, dv):\n",
    "    df['PU_DO'] = df['PULocationID'] + '_' + df['DOLocationID']\n",
    "    categorical = ['PU_DO']\n",
    "    numerical = ['trip_distance']\n",
    "    train_dicts = df[categorical + numerical].to_dict(orient='records')\n",
    "    return dv.transform(train_dicts)\n",
    "\n",
    "\n",
    "def test_model(name, stage, X_test, y_test):\n",
    "    model = mlflow.pyfunc.load_model(f\"models:/{name}/{stage}\")\n",
    "    y_pred = model.predict(X_test)\n",
    "    return {\"rmse\": mean_squared_error(y_test, y_pred, squared=False)}"
   ]
  },
  {
   "cell_type": "code",
   "execution_count": 75,
   "metadata": {},
   "outputs": [],
   "source": [
    "df = read_dataframe('data/green_tripdata_2021-03.parquet')"
   ]
  },
  {
   "cell_type": "code",
   "execution_count": 81,
   "metadata": {},
   "outputs": [
    {
     "ename": "MissingConfigException",
     "evalue": "Yaml file '/home/azureuser/MLOps_zoomcamp/notebooks/mlruns/1/6bd3ebb0fe124d3f95c09bd65203dae8/meta.yaml' does not exist.",
     "output_type": "error",
     "traceback": [
      "\u001b[0;31m---------------------------------------------------------------------------\u001b[0m",
      "\u001b[0;31mMissingConfigException\u001b[0m                    Traceback (most recent call last)",
      "Cell \u001b[0;32mIn[81], line 1\u001b[0m\n\u001b[0;32m----> 1\u001b[0m mlflow\u001b[39m.\u001b[39;49martifacts\u001b[39m.\u001b[39;49mdownload_artifacts(run_id\u001b[39m=\u001b[39;49m\u001b[39m'\u001b[39;49m\u001b[39m6bd3ebb0fe124d3f95c09bd65203dae8\u001b[39;49m\u001b[39m'\u001b[39;49m, dst_path\u001b[39m=\u001b[39;49m\u001b[39m'\u001b[39;49m\u001b[39m.\u001b[39;49m\u001b[39m'\u001b[39;49m)\n",
      "File \u001b[0;32m~/anaconda3/lib/python3.10/site-packages/mlflow/artifacts/__init__.py:65\u001b[0m, in \u001b[0;36mdownload_artifacts\u001b[0;34m(artifact_uri, run_id, artifact_path, dst_path, tracking_uri)\u001b[0m\n\u001b[1;32m     62\u001b[0m artifact_path \u001b[39m=\u001b[39m artifact_path \u001b[39mif\u001b[39;00m artifact_path \u001b[39mis\u001b[39;00m \u001b[39mnot\u001b[39;00m \u001b[39mNone\u001b[39;00m \u001b[39melse\u001b[39;00m \u001b[39m\"\u001b[39m\u001b[39m\"\u001b[39m\n\u001b[1;32m     64\u001b[0m store \u001b[39m=\u001b[39m _get_store(store_uri\u001b[39m=\u001b[39mtracking_uri)\n\u001b[0;32m---> 65\u001b[0m artifact_uri \u001b[39m=\u001b[39m store\u001b[39m.\u001b[39;49mget_run(run_id)\u001b[39m.\u001b[39minfo\u001b[39m.\u001b[39martifact_uri\n\u001b[1;32m     66\u001b[0m artifact_repo \u001b[39m=\u001b[39m get_artifact_repository(\n\u001b[1;32m     67\u001b[0m     add_databricks_profile_info_to_artifact_uri(artifact_uri, tracking_uri)\n\u001b[1;32m     68\u001b[0m )\n\u001b[1;32m     69\u001b[0m artifact_location \u001b[39m=\u001b[39m artifact_repo\u001b[39m.\u001b[39mdownload_artifacts(artifact_path, dst_path\u001b[39m=\u001b[39mdst_path)\n",
      "File \u001b[0;32m~/anaconda3/lib/python3.10/site-packages/mlflow/store/tracking/file_store.py:647\u001b[0m, in \u001b[0;36mFileStore.get_run\u001b[0;34m(self, run_id)\u001b[0m\n\u001b[1;32m    643\u001b[0m \u001b[39m\"\"\"\u001b[39;00m\n\u001b[1;32m    644\u001b[0m \u001b[39mNote: Will get both active and deleted runs.\u001b[39;00m\n\u001b[1;32m    645\u001b[0m \u001b[39m\"\"\"\u001b[39;00m\n\u001b[1;32m    646\u001b[0m _validate_run_id(run_id)\n\u001b[0;32m--> 647\u001b[0m run_info \u001b[39m=\u001b[39m \u001b[39mself\u001b[39;49m\u001b[39m.\u001b[39;49m_get_run_info(run_id)\n\u001b[1;32m    648\u001b[0m \u001b[39mif\u001b[39;00m run_info \u001b[39mis\u001b[39;00m \u001b[39mNone\u001b[39;00m:\n\u001b[1;32m    649\u001b[0m     \u001b[39mraise\u001b[39;00m MlflowException(\n\u001b[1;32m    650\u001b[0m         \u001b[39m\"\u001b[39m\u001b[39mRun \u001b[39m\u001b[39m'\u001b[39m\u001b[39m%s\u001b[39;00m\u001b[39m'\u001b[39m\u001b[39m metadata is in invalid state.\u001b[39m\u001b[39m\"\u001b[39m \u001b[39m%\u001b[39m run_id, databricks_pb2\u001b[39m.\u001b[39mINVALID_STATE\n\u001b[1;32m    651\u001b[0m     )\n",
      "File \u001b[0;32m~/anaconda3/lib/python3.10/site-packages/mlflow/store/tracking/file_store.py:673\u001b[0m, in \u001b[0;36mFileStore._get_run_info\u001b[0;34m(self, run_uuid)\u001b[0m\n\u001b[1;32m    669\u001b[0m \u001b[39mif\u001b[39;00m run_dir \u001b[39mis\u001b[39;00m \u001b[39mNone\u001b[39;00m:\n\u001b[1;32m    670\u001b[0m     \u001b[39mraise\u001b[39;00m MlflowException(\n\u001b[1;32m    671\u001b[0m         \u001b[39m\"\u001b[39m\u001b[39mRun \u001b[39m\u001b[39m'\u001b[39m\u001b[39m%s\u001b[39;00m\u001b[39m'\u001b[39m\u001b[39m not found\u001b[39m\u001b[39m\"\u001b[39m \u001b[39m%\u001b[39m run_uuid, databricks_pb2\u001b[39m.\u001b[39mRESOURCE_DOES_NOT_EXIST\n\u001b[1;32m    672\u001b[0m     )\n\u001b[0;32m--> 673\u001b[0m run_info \u001b[39m=\u001b[39m \u001b[39mself\u001b[39;49m\u001b[39m.\u001b[39;49m_get_run_info_from_dir(run_dir)\n\u001b[1;32m    674\u001b[0m \u001b[39mif\u001b[39;00m run_info\u001b[39m.\u001b[39mexperiment_id \u001b[39m!=\u001b[39m exp_id:\n\u001b[1;32m    675\u001b[0m     \u001b[39mraise\u001b[39;00m MlflowException(\n\u001b[1;32m    676\u001b[0m         \u001b[39m\"\u001b[39m\u001b[39mRun \u001b[39m\u001b[39m'\u001b[39m\u001b[39m%s\u001b[39;00m\u001b[39m'\u001b[39m\u001b[39m metadata is in invalid state.\u001b[39m\u001b[39m\"\u001b[39m \u001b[39m%\u001b[39m run_uuid, databricks_pb2\u001b[39m.\u001b[39mINVALID_STATE\n\u001b[1;32m    677\u001b[0m     )\n",
      "File \u001b[0;32m~/anaconda3/lib/python3.10/site-packages/mlflow/store/tracking/file_store.py:681\u001b[0m, in \u001b[0;36mFileStore._get_run_info_from_dir\u001b[0;34m(self, run_dir)\u001b[0m\n\u001b[1;32m    680\u001b[0m \u001b[39mdef\u001b[39;00m \u001b[39m_get_run_info_from_dir\u001b[39m(\u001b[39mself\u001b[39m, run_dir):\n\u001b[0;32m--> 681\u001b[0m     meta \u001b[39m=\u001b[39m FileStore\u001b[39m.\u001b[39;49m_read_yaml(run_dir, FileStore\u001b[39m.\u001b[39;49mMETA_DATA_FILE_NAME)\n\u001b[1;32m    682\u001b[0m     run_info \u001b[39m=\u001b[39m _read_persisted_run_info_dict(meta)\n\u001b[1;32m    683\u001b[0m     \u001b[39mreturn\u001b[39;00m run_info\n",
      "File \u001b[0;32m~/anaconda3/lib/python3.10/site-packages/mlflow/store/tracking/file_store.py:1096\u001b[0m, in \u001b[0;36mFileStore._read_yaml\u001b[0;34m(root, file_name, retries)\u001b[0m\n\u001b[1;32m   1093\u001b[0m         time\u001b[39m.\u001b[39msleep(\u001b[39m0.1\u001b[39m \u001b[39m*\u001b[39m (\u001b[39m3\u001b[39m \u001b[39m-\u001b[39m attempts_remaining))\n\u001b[1;32m   1094\u001b[0m         \u001b[39mreturn\u001b[39;00m _read_helper(root, file_name, attempts_remaining \u001b[39m-\u001b[39m \u001b[39m1\u001b[39m)\n\u001b[0;32m-> 1096\u001b[0m \u001b[39mreturn\u001b[39;00m _read_helper(root, file_name, attempts_remaining\u001b[39m=\u001b[39;49mretries)\n",
      "File \u001b[0;32m~/anaconda3/lib/python3.10/site-packages/mlflow/store/tracking/file_store.py:1089\u001b[0m, in \u001b[0;36mFileStore._read_yaml.<locals>._read_helper\u001b[0;34m(root, file_name, attempts_remaining)\u001b[0m\n\u001b[1;32m   1088\u001b[0m \u001b[39mdef\u001b[39;00m \u001b[39m_read_helper\u001b[39m(root, file_name, attempts_remaining\u001b[39m=\u001b[39m\u001b[39m2\u001b[39m):\n\u001b[0;32m-> 1089\u001b[0m     result \u001b[39m=\u001b[39m read_yaml(root, file_name)\n\u001b[1;32m   1090\u001b[0m     \u001b[39mif\u001b[39;00m result \u001b[39mis\u001b[39;00m \u001b[39mnot\u001b[39;00m \u001b[39mNone\u001b[39;00m \u001b[39mor\u001b[39;00m attempts_remaining \u001b[39m==\u001b[39m \u001b[39m0\u001b[39m:\n\u001b[1;32m   1091\u001b[0m         \u001b[39mreturn\u001b[39;00m result\n",
      "File \u001b[0;32m~/anaconda3/lib/python3.10/site-packages/mlflow/utils/file_utils.py:215\u001b[0m, in \u001b[0;36mread_yaml\u001b[0;34m(root, file_name)\u001b[0m\n\u001b[1;32m    213\u001b[0m file_path \u001b[39m=\u001b[39m os\u001b[39m.\u001b[39mpath\u001b[39m.\u001b[39mjoin(root, file_name)\n\u001b[1;32m    214\u001b[0m \u001b[39mif\u001b[39;00m \u001b[39mnot\u001b[39;00m exists(file_path):\n\u001b[0;32m--> 215\u001b[0m     \u001b[39mraise\u001b[39;00m MissingConfigException(\u001b[39m\"\u001b[39m\u001b[39mYaml file \u001b[39m\u001b[39m'\u001b[39m\u001b[39m%s\u001b[39;00m\u001b[39m'\u001b[39m\u001b[39m does not exist.\u001b[39m\u001b[39m\"\u001b[39m \u001b[39m%\u001b[39m file_path)\n\u001b[1;32m    216\u001b[0m \u001b[39mtry\u001b[39;00m:\n\u001b[1;32m    217\u001b[0m     \u001b[39mwith\u001b[39;00m codecs\u001b[39m.\u001b[39mopen(file_path, mode\u001b[39m=\u001b[39m\u001b[39m\"\u001b[39m\u001b[39mr\u001b[39m\u001b[39m\"\u001b[39m, encoding\u001b[39m=\u001b[39mENCODING) \u001b[39mas\u001b[39;00m yaml_file:\n",
      "\u001b[0;31mMissingConfigException\u001b[0m: Yaml file '/home/azureuser/MLOps_zoomcamp/notebooks/mlruns/1/6bd3ebb0fe124d3f95c09bd65203dae8/meta.yaml' does not exist."
     ]
    }
   ],
   "source": [
    "mlflow.artifacts.download_artifacts(run_id='6bd3ebb0fe124d3f95c09bd65203dae8', dst_path='.')"
   ]
  },
  {
   "cell_type": "code",
   "execution_count": null,
   "metadata": {},
   "outputs": [],
   "source": []
  }
 ],
 "metadata": {
  "kernelspec": {
   "display_name": "base",
   "language": "python",
   "name": "python3"
  },
  "language_info": {
   "codemirror_mode": {
    "name": "ipython",
    "version": 3
   },
   "file_extension": ".py",
   "mimetype": "text/x-python",
   "name": "python",
   "nbconvert_exporter": "python",
   "pygments_lexer": "ipython3",
   "version": "3.10.9"
  },
  "orig_nbformat": 4
 },
 "nbformat": 4,
 "nbformat_minor": 2
}
