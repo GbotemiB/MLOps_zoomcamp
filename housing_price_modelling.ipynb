{
 "cells": [
  {
   "cell_type": "code",
   "execution_count": 1,
   "metadata": {},
   "outputs": [],
   "source": [
    "# !pip install catboost -q"
   ]
  },
  {
   "cell_type": "code",
   "execution_count": 2,
   "metadata": {},
   "outputs": [],
   "source": [
    "# pip install mlflow -q"
   ]
  },
  {
   "cell_type": "code",
   "execution_count": 3,
   "metadata": {},
   "outputs": [],
   "source": [
    "# !pip install lightgbm"
   ]
  },
  {
   "cell_type": "code",
   "execution_count": 3,
   "metadata": {},
   "outputs": [],
   "source": [
    "import pandas as pd\n",
    "import numpy as np\n",
    "\n",
    "from sklearn.model_selection import train_test_split, KFold\n",
    "from lightgbm import LGBMRegressor\n",
    "from catboost import CatBoostRegressor\n",
    "from xgboost import XGBRegressor\n",
    "from sklearn.metrics import mean_squared_error, mean_absolute_error, r2_score\n",
    "from sklearn.feature_extraction import DictVectorizer\n",
    "\n",
    "import pickle\n",
    "import mlflow\n",
    "from mlflow.tracking import MlflowClient\n",
    "from mlflow.entities import ViewType\n",
    "\n",
    "# from mlflow import MlflowClient\n"
   ]
  },
  {
   "cell_type": "code",
   "execution_count": 3,
   "metadata": {},
   "outputs": [],
   "source": [
    "MLFLOW_TRACKING_URI = \"sqlite:///mlflow.db\"\n",
    "EXPERIMENT_NAME = 'housing-price'"
   ]
  },
  {
   "cell_type": "code",
   "execution_count": 4,
   "metadata": {},
   "outputs": [
    {
     "data": {
      "text/plain": [
       "<Experiment: artifact_location='/home/azureuser/MLOps_zoomcamp/mlruns/1', creation_time=1691845828281, experiment_id='1', last_update_time=1691845828281, lifecycle_stage='active', name='housing-price', tags={}>"
      ]
     },
     "execution_count": 4,
     "metadata": {},
     "output_type": "execute_result"
    }
   ],
   "source": [
    "mlflow.set_tracking_uri(MLFLOW_TRACKING_URI)\n",
    "mlflow.set_experiment(EXPERIMENT_NAME)"
   ]
  },
  {
   "cell_type": "code",
   "execution_count": 5,
   "metadata": {},
   "outputs": [],
   "source": [
    "client = MlflowClient(tracking_uri=MLFLOW_TRACKING_URI)"
   ]
  },
  {
   "cell_type": "code",
   "execution_count": 6,
   "metadata": {},
   "outputs": [],
   "source": [
    "experiment = client.get_experiment_by_name(EXPERIMENT_NAME)\n",
    "runs = client.search_runs(\n",
    "    experiment_ids=experiment.experiment_id,\n",
    "    run_view_type=ViewType.ACTIVE_ONLY,\n",
    "    max_results=5,\n",
    "    order_by=[\"metrics.rmse ASC\"]\n",
    ")"
   ]
  },
  {
   "cell_type": "code",
   "execution_count": 7,
   "metadata": {},
   "outputs": [
    {
     "name": "stdout",
     "output_type": "stream",
     "text": [
      "run_id:332da12b29be4a7fb4a05ce3e9e9d5ff, rmse:530561.7354094362\n",
      "run_id:433821303c054110996d53ec9cabd49b, rmse:535803.966266819\n",
      "run_id:b3e066b9248d4db09e13e13df9d44051, rmse:535803.966266819\n",
      "run_id:6a51bd0a4d2f4912b4b710f376e03cc0, rmse:538548.3420322725\n",
      "run_id:e15d499f882e4df6b0fc1d651486a009, rmse:542456.0409498757\n"
     ]
    }
   ],
   "source": [
    "for run in runs:\n",
    "    print(f'run_id:{run.info.run_id}, rmse:{run.data.metrics[\"rmse\"]}')"
   ]
  },
  {
   "cell_type": "code",
   "execution_count": 8,
   "metadata": {},
   "outputs": [
    {
     "name": "stderr",
     "output_type": "stream",
     "text": [
      "Registered model 'housing_price' already exists. Creating a new version of this model...\n",
      "2023/08/13 18:50:53 INFO mlflow.tracking._model_registry.client: Waiting up to 300 seconds for model version to finish creation. Model name: housing_price, version 3\n",
      "Created version '3' of model 'housing_price'.\n"
     ]
    },
    {
     "data": {
      "text/plain": [
       "<ModelVersion: aliases=[], creation_timestamp=1691952653200, current_stage='None', description=None, last_updated_timestamp=1691952653200, name='housing_price', run_id='332da12b29be4a7fb4a05ce3e9e9d5ff', run_link=None, source='/home/azureuser/MLOps_zoomcamp/mlruns/1/332da12b29be4a7fb4a05ce3e9e9d5ff/artifacts/model', status='READY', status_message=None, tags={}, user_id=None, version=3>"
      ]
     },
     "execution_count": 8,
     "metadata": {},
     "output_type": "execute_result"
    }
   ],
   "source": [
    "run_id = \"332da12b29be4a7fb4a05ce3e9e9d5ff\"\n",
    "model_uri = f\"runs:/{run_id}/model\"\n",
    "mlflow.register_model(model_uri=model_uri, name=\"housing_price\")"
   ]
  },
  {
   "cell_type": "code",
   "execution_count": 13,
   "metadata": {},
   "outputs": [],
   "source": [
    "model_name = \"housing_price\"\n",
    "latest_version = client.get_latest_versions(name=model_name)"
   ]
  },
  {
   "cell_type": "code",
   "execution_count": 14,
   "metadata": {},
   "outputs": [
    {
     "data": {
      "text/plain": [
       "<ModelVersion: aliases=[], creation_timestamp=1691853856691, current_stage='Staging', description='', last_updated_timestamp=1691951162335, name='housing_price', run_id='b3de1b48f0f7480c85468b6fb837bd97', run_link='', source='/home/azureuser/MLOps_zoomcamp/mlruns/1/b3de1b48f0f7480c85468b6fb837bd97/artifacts/models_mlflow', status='READY', status_message=None, tags={}, user_id=None, version=1>"
      ]
     },
     "execution_count": 14,
     "metadata": {},
     "output_type": "execute_result"
    }
   ],
   "source": [
    "latest_version[0]"
   ]
  },
  {
   "cell_type": "code",
   "execution_count": 55,
   "metadata": {},
   "outputs": [
    {
     "data": {
      "text/plain": [
       "<ModelVersion: aliases=[], creation_timestamp=1691950576764, current_stage='Production', description=None, last_updated_timestamp=1691952104895, name='housing_price', run_id='332da12b29be4a7fb4a05ce3e9e9d5ff', run_link=None, source='/home/azureuser/MLOps_zoomcamp/mlruns/1/332da12b29be4a7fb4a05ce3e9e9d5ff/artifacts/model', status='READY', status_message=None, tags={}, user_id=None, version=2>"
      ]
     },
     "execution_count": 55,
     "metadata": {},
     "output_type": "execute_result"
    }
   ],
   "source": [
    "client.transition_model_version_stage(\n",
    "    name=model_name,\n",
    "    version=latest_version[0].version,\n",
    "    stage=\"Production\",\n",
    "    archive_existing_versions=False\n",
    ")"
   ]
  },
  {
   "cell_type": "code",
   "execution_count": 15,
   "metadata": {},
   "outputs": [
    {
     "data": {
      "text/plain": [
       "['None', 'Staging', 'Production', 'Archived']"
      ]
     },
     "execution_count": 15,
     "metadata": {},
     "output_type": "execute_result"
    }
   ],
   "source": [
    "client.get_model_version_stages(\n",
    "    name=model_name,\n",
    "    version=latest_version[0].version\n",
    ")"
   ]
  },
  {
   "cell_type": "code",
   "execution_count": 17,
   "metadata": {},
   "outputs": [],
   "source": [
    "registered_model = client.get_registered_model(\n",
    "    name=model_name\n",
    ")"
   ]
  },
  {
   "cell_type": "code",
   "execution_count": 37,
   "metadata": {},
   "outputs": [
    {
     "data": {
      "text/plain": [
       "[<ModelVersion: aliases=[], creation_timestamp=1691853856691, current_stage='Staging', description='', last_updated_timestamp=1691951162335, name='housing_price', run_id='b3de1b48f0f7480c85468b6fb837bd97', run_link='', source='/home/azureuser/MLOps_zoomcamp/mlruns/1/b3de1b48f0f7480c85468b6fb837bd97/artifacts/models_mlflow', status='READY', status_message=None, tags={}, user_id=None, version=1>,\n",
       " <ModelVersion: aliases=[], creation_timestamp=1691950576764, current_stage='Production', description=None, last_updated_timestamp=1691952104895, name='housing_price', run_id='332da12b29be4a7fb4a05ce3e9e9d5ff', run_link=None, source='/home/azureuser/MLOps_zoomcamp/mlruns/1/332da12b29be4a7fb4a05ce3e9e9d5ff/artifacts/model', status='READY', status_message=None, tags={}, user_id=None, version=2>,\n",
       " <ModelVersion: aliases=[], creation_timestamp=1691952653200, current_stage='None', description=None, last_updated_timestamp=1691952653200, name='housing_price', run_id='332da12b29be4a7fb4a05ce3e9e9d5ff', run_link=None, source='/home/azureuser/MLOps_zoomcamp/mlruns/1/332da12b29be4a7fb4a05ce3e9e9d5ff/artifacts/model', status='READY', status_message=None, tags={}, user_id=None, version=3>]"
      ]
     },
     "execution_count": 37,
     "metadata": {},
     "output_type": "execute_result"
    }
   ],
   "source": [
    "registered_model.latest_versions"
   ]
  },
  {
   "cell_type": "code",
   "execution_count": 30,
   "metadata": {},
   "outputs": [
    {
     "name": "stdout",
     "output_type": "stream",
     "text": [
      "('aliases', {})\n",
      "('creation_timestamp', 1691853852199)\n",
      "('description', '')\n",
      "('last_updated_timestamp', 1691952653200)\n",
      "('latest_versions', [<ModelVersion: aliases=[], creation_timestamp=1691853856691, current_stage='Staging', description='', last_updated_timestamp=1691951162335, name='housing_price', run_id='b3de1b48f0f7480c85468b6fb837bd97', run_link='', source='/home/azureuser/MLOps_zoomcamp/mlruns/1/b3de1b48f0f7480c85468b6fb837bd97/artifacts/models_mlflow', status='READY', status_message=None, tags={}, user_id=None, version=1>, <ModelVersion: aliases=[], creation_timestamp=1691950576764, current_stage='Production', description=None, last_updated_timestamp=1691952104895, name='housing_price', run_id='332da12b29be4a7fb4a05ce3e9e9d5ff', run_link=None, source='/home/azureuser/MLOps_zoomcamp/mlruns/1/332da12b29be4a7fb4a05ce3e9e9d5ff/artifacts/model', status='READY', status_message=None, tags={}, user_id=None, version=2>, <ModelVersion: aliases=[], creation_timestamp=1691952653200, current_stage='None', description=None, last_updated_timestamp=1691952653200, name='housing_price', run_id='332da12b29be4a7fb4a05ce3e9e9d5ff', run_link=None, source='/home/azureuser/MLOps_zoomcamp/mlruns/1/332da12b29be4a7fb4a05ce3e9e9d5ff/artifacts/model', status='READY', status_message=None, tags={}, user_id=None, version=3>])\n",
      "('name', 'housing_price')\n",
      "('tags', {})\n"
     ]
    }
   ],
   "source": [
    "for model in registered_model:\n",
    "    print(model)"
   ]
  },
  {
   "cell_type": "code",
   "execution_count": 38,
   "metadata": {},
   "outputs": [],
   "source": [
    "data_path = 'data/Housing_dataset_train.csv'"
   ]
  },
  {
   "cell_type": "markdown",
   "metadata": {},
   "source": [
    "## Modelling"
   ]
  },
  {
   "cell_type": "code",
   "execution_count": 39,
   "metadata": {},
   "outputs": [],
   "source": [
    "state_to_zone = {\n",
    "    \"Abia\": \"South-East\",\n",
    "    \"Adamawa\": \"North-East\",\n",
    "    \"Akwa Ibom\": \"South-South\",\n",
    "    \"Anambra\": \"South-East\",\n",
    "    \"Bauchi\": \"North-East\",\n",
    "    \"Bayelsa\": \"South-South\",\n",
    "    \"Benue\": \"North-Central\",\n",
    "    \"Borno\": \"North-East\",\n",
    "    \"Cross River\": \"South-South\",\n",
    "    \"Delta\": \"South-South\",\n",
    "    \"Ebonyi\": \"South-East\",\n",
    "    \"Edo\": \"South-South\",\n",
    "    \"Ekiti\": \"South-West\",\n",
    "    \"Enugu\": \"South-East\",\n",
    "    \"Gombe\": \"North-East\",\n",
    "    \"Imo\": \"South-East\",\n",
    "    \"Jigawa\": \"North-West\",\n",
    "    \"Kaduna\": \"North-West\",\n",
    "    \"Kano\": \"North-West\",\n",
    "    \"Katsina\": \"North-West\",\n",
    "    \"Kebbi\": \"North-West\",\n",
    "    \"Kogi\": \"North-Central\",\n",
    "    \"Kwara\": \"North-Central\",\n",
    "    \"Lagos\": \"South-West\",\n",
    "    \"Nasarawa\": \"North-Central\",\n",
    "    \"Niger\": \"North-Central\",\n",
    "    \"Ogun\": \"South-West\",\n",
    "    \"Ondo\": \"South-West\",\n",
    "    \"Osun\": \"South-West\",\n",
    "    \"Oyo\": \"South-West\",\n",
    "    \"Plateau\": \"North-Central\",\n",
    "    \"Rivers\": \"South-South\",\n",
    "    \"Sokoto\": \"North-West\",\n",
    "    \"Taraba\": \"North-East\",\n",
    "    \"Yobe\": \"North-East\",\n",
    "    \"Zamfara\": \"North-West\",\n",
    "}"
   ]
  },
  {
   "cell_type": "code",
   "execution_count": 40,
   "metadata": {},
   "outputs": [],
   "source": [
    "house_type_ranks = {\n",
    "    'Cottage': 1,\n",
    "    'Bungalow': 2,\n",
    "    'Townhouse': 3,\n",
    "    'Terrace duplex': 4,\n",
    "    'Detached duplex': 5,\n",
    "    'Semi-detached duplex': 6,\n",
    "    'Flat': 7,\n",
    "    'Penthouse': 8,\n",
    "    'Apartment': 9,\n",
    "    'Mansion': 10\n",
    "}"
   ]
  },
  {
   "cell_type": "code",
   "execution_count": null,
   "metadata": {},
   "outputs": [],
   "source": [
    "\n",
    "\n"
   ]
  },
  {
   "cell_type": "code",
   "execution_count": 41,
   "metadata": {},
   "outputs": [],
   "source": [
    "def preprocess(data_path):\n",
    "    data = pd.read_csv(data_path)\n",
    "\n",
    "    print(data.columns.tolist())\n",
    "    \n",
    "    data['zone'] = data['loc'].map(state_to_zone)\n",
    "    data['title'] = data['title'].map(house_type_ranks)\n",
    "\n",
    "    category_frequencies = data['loc'].value_counts(normalize=True)\n",
    "    loc_frequency_mapping = category_frequencies.to_dict()\n",
    "    data['loc'] = data['loc'].map(loc_frequency_mapping)\n",
    "\n",
    "    data['rooms'] = data['bathroom'] + data['bedroom']\n",
    "    data['bathroom_ratio'] = data['bathroom']/(data['bathroom'] + data['bedroom'])\n",
    "\n",
    "    data['zone'] = data['zone'].astype('category').cat.codes\n",
    "\n",
    "    print(\"_____________________________________________________________________________\")\n",
    "    print(data.head())\n",
    "\n",
    "    X = data.drop(columns=['price'], axis=0)\n",
    "    y = data.price\n",
    "\n",
    "    return X, y\n",
    "\n"
   ]
  },
  {
   "cell_type": "code",
   "execution_count": 42,
   "metadata": {},
   "outputs": [
    {
     "name": "stdout",
     "output_type": "stream",
     "text": [
      "['ID', 'loc', 'title', 'bedroom', 'bathroom', 'parking_space', 'price']\n",
      "_____________________________________________________________________________\n",
      "      ID       loc  title  bedroom  bathroom  parking_space        price  \\\n",
      "0   3583  0.028309    6.0      2.0       2.0            1.0  1149999.565   \n",
      "1   2748  0.028227    9.0      NaN       2.0            4.0  1672416.689   \n",
      "2   9261  0.027570    NaN      7.0       5.0            NaN  3364799.814   \n",
      "3   2224  0.029786    5.0      5.0       2.0            4.0  2410306.756   \n",
      "4  10300  0.026340    4.0      NaN       5.0            6.0  2600700.898   \n",
      "\n",
      "   zone  rooms  bathroom_ratio  \n",
      "0     2    4.0        0.500000  \n",
      "1     5    NaN             NaN  \n",
      "2     5   12.0        0.416667  \n",
      "3     3    7.0        0.285714  \n",
      "4     0    NaN             NaN  \n"
     ]
    }
   ],
   "source": [
    "X_, y_ = preprocess(data_path)"
   ]
  },
  {
   "cell_type": "code",
   "execution_count": 46,
   "metadata": {},
   "outputs": [],
   "source": [
    "X_dicts = X_.to_dict(orient='records')"
   ]
  },
  {
   "cell_type": "code",
   "execution_count": null,
   "metadata": {},
   "outputs": [],
   "source": [
    "dv = DictVectorizer()\n"
   ]
  },
  {
   "cell_type": "code",
   "execution_count": 34,
   "metadata": {},
   "outputs": [],
   "source": [
    "mlflow.lightgbm.autolog(disable=True)"
   ]
  },
  {
   "cell_type": "code",
   "execution_count": 35,
   "metadata": {},
   "outputs": [
    {
     "name": "stdout",
     "output_type": "stream",
     "text": [
      "[LightGBM] [Warning] Accuracy may be bad since you didn't explicitly set num_leaves OR 2^max_depth > num_leaves. (num_leaves=31).\n",
      "[LightGBM] [Warning] Accuracy may be bad since you didn't explicitly set num_leaves OR 2^max_depth > num_leaves. (num_leaves=31).\n",
      "[LightGBM] [Warning] Auto-choosing col-wise multi-threading, the overhead of testing was 0.000912 seconds.\n",
      "You can set `force_col_wise=true` to remove the overhead.\n",
      "[LightGBM] [Info] Total Bins 396\n",
      "[LightGBM] [Info] Number of data points in the train set: 7000, number of used features: 9\n",
      "[LightGBM] [Warning] Accuracy may be bad since you didn't explicitly set num_leaves OR 2^max_depth > num_leaves. (num_leaves=31).\n",
      "[LightGBM] [Info] Start training from score 1425.058519\n"
     ]
    },
    {
     "name": "stdout",
     "output_type": "stream",
     "text": [
      "[LightGBM] [Warning] Accuracy may be bad since you didn't explicitly set num_leaves OR 2^max_depth > num_leaves. (num_leaves=31).\n",
      "err: 529324.2298639654\n",
      "[LightGBM] [Warning] Accuracy may be bad since you didn't explicitly set num_leaves OR 2^max_depth > num_leaves. (num_leaves=31).\n",
      "[LightGBM] [Warning] Accuracy may be bad since you didn't explicitly set num_leaves OR 2^max_depth > num_leaves. (num_leaves=31).\n",
      "[LightGBM] [Warning] Auto-choosing col-wise multi-threading, the overhead of testing was 0.000752 seconds.\n",
      "You can set `force_col_wise=true` to remove the overhead.\n",
      "[LightGBM] [Info] Total Bins 396\n",
      "[LightGBM] [Info] Number of data points in the train set: 7000, number of used features: 9\n",
      "[LightGBM] [Warning] Accuracy may be bad since you didn't explicitly set num_leaves OR 2^max_depth > num_leaves. (num_leaves=31).\n",
      "[LightGBM] [Info] Start training from score 1423.011279\n",
      "[LightGBM] [Warning] Accuracy may be bad since you didn't explicitly set num_leaves OR 2^max_depth > num_leaves. (num_leaves=31).\n",
      "err: 571620.4886453262\n"
     ]
    }
   ],
   "source": [
    "with mlflow.start_run():\n",
    "\n",
    "    params = {\n",
    "        'max_depth': 10,\n",
    "        'n_estimators': 2000,\n",
    "        'learning_rate': 0.002712819361612371,\n",
    "        'colsample_bytree': 0.9484547548287134,\n",
    "        'subsample': 0.8490126211976283\n",
    "        }\n",
    "\n",
    "    mlflow.log_params(params)\n",
    "\n",
    "    fold_pred = []\n",
    "    splits = 2\n",
    "    fold = KFold(n_splits=splits)\n",
    "\n",
    "    for data_index, test_index in fold.split(X_, y_):\n",
    "        X_data, X_test = X_.iloc[data_index], X_.iloc[test_index]\n",
    "        y_data, y_test = np.sqrt(y_.iloc[data_index]), y_.iloc[test_index]\n",
    "\n",
    "        model = LGBMRegressor(**params, objective='rmse')\n",
    "        model.fit(X_data, y_data, eval_set=[(X_data, y_data), (X_test, y_test)])\n",
    "        model_preds = model.predict(X_test)\n",
    "\n",
    "        rmse = mean_squared_error(y_test, np.square(model_preds), squared=False)\n",
    "        print(f'err: {rmse}')\n",
    "        fold_pred.append(rmse)\n",
    "\n",
    "    RMSE = np.mean(fold_pred)\n",
    "\n",
    "    mlflow.log_param(\"splits\", splits)\n",
    "    mlflow.log_metric(\"rmse\", RMSE)\n",
    "    \n",
    "    with open('models/lgb.bin', 'wb') as f:\n",
    "        pickle.dump(model, f)\n",
    "\n",
    "    mlflow.log_artifact(local_path=\"models/lgb.bin\", artifact_path=\"models_pickle\")\n",
    "    mlflow.lightgbm.log_model(model, artifact_path=\"models_mlflow\")"
   ]
  },
  {
   "cell_type": "code",
   "execution_count": 41,
   "metadata": {},
   "outputs": [
    {
     "name": "stdout",
     "output_type": "stream",
     "text": [
      "err: 466743.0169847345\n",
      "err: 524069.56855255977\n",
      "err: 638941.7498937332\n",
      "err: 470119.679511906\n",
      "err: 476696.0579938225\n",
      "err: 588413.1371192657\n",
      "err: 552106.7342063364\n",
      "err: 494535.4359102119\n",
      "err: 513112.49038561864\n",
      "err: 633301.7921100028\n"
     ]
    }
   ],
   "source": [
    "with mlflow.start_run():\n",
    "\n",
    "    params = {\n",
    "        'max_depth': 10,\n",
    "        'n_estimators': 2000,\n",
    "        'subsample': 0.84,\n",
    "        'learning_rate': 0.01,\n",
    "        'n_estimators' : 2000\n",
    "        }\n",
    "\n",
    "    mlflow.log_params(params)\n",
    "\n",
    "    fold_pred_1 = []\n",
    "    splits = 10\n",
    "    fold = KFold(n_splits=splits)\n",
    "\n",
    "    for data_index, test_index in fold.split(X_, y_):\n",
    "        X_data, X_test = X_.iloc[data_index], X_.iloc[test_index]\n",
    "        y_data, y_test = np.sqrt(y_.iloc[data_index]), y_.iloc[test_index]\n",
    "\n",
    "        model = CatBoostRegressor(**params)\n",
    "        model.fit(X_data, y_data, eval_set=[(X_data, y_data), (X_test, y_test)], verbose=0)\n",
    "        model_preds = model.predict(X_test)\n",
    "\n",
    "        rmse = mean_squared_error(y_test, np.square(model_preds), squared=False)\n",
    "        print(f'err: {rmse}')\n",
    "        fold_pred_1.append(rmse)\n",
    "\n",
    "    RMSE = np.mean(fold_pred_1)\n",
    "\n",
    "    mlflow.log_param(\"splits\", splits)\n",
    "    mlflow.log_metric(\"rmse\", RMSE)\n",
    "    \n",
    "    with open('models/cat.bin', 'wb') as f:\n",
    "        pickle.dump(model, f)\n",
    "\n",
    "    mlflow.log_artifact(local_path=\"models/cat.bin\", artifact_path=\"models_pickle\")\n",
    "    mlflow.catboost.log_model(model, artifact_path=\"models_mlflow\")"
   ]
  },
  {
   "cell_type": "code",
   "execution_count": 42,
   "metadata": {},
   "outputs": [
    {
     "name": "stdout",
     "output_type": "stream",
     "text": [
      "err: 491728.36126421625\n",
      "err: 547610.9804050468\n",
      "err: 653658.618074101\n",
      "err: 496614.536246212\n",
      "err: 482955.2736791648\n",
      "err: 615508.374548473\n",
      "err: 557145.6781747503\n",
      "err: 516872.42737316753\n",
      "err: 581392.2704359363\n",
      "err: 649455.7368549954\n"
     ]
    }
   ],
   "source": [
    "with mlflow.start_run():\n",
    "\n",
    "    params = {\n",
    "        'max_depth': 10,\n",
    "        'n_estimators': 2000,\n",
    "        'subsample': 0.84,\n",
    "        'learning_rate': 0.01,\n",
    "        'n_estimators' : 2000\n",
    "        }\n",
    "\n",
    "    mlflow.log_params(params)\n",
    "\n",
    "    fold_pred_1 = []\n",
    "    splits = 10\n",
    "    fold = KFold(n_splits=splits)\n",
    "\n",
    "    for data_index, test_index in fold.split(X_, y_):\n",
    "        X_data, X_test = X_.iloc[data_index], X_.iloc[test_index]\n",
    "        y_data, y_test = np.sqrt(y_.iloc[data_index]), y_.iloc[test_index]\n",
    "\n",
    "        model = XGBRegressor(**params)\n",
    "        model.fit(X_data, y_data, eval_set=[(X_data, y_data), (X_test, y_test)], verbose=0)\n",
    "        model_preds = model.predict(X_test)\n",
    "\n",
    "        rmse = mean_squared_error(y_test, np.square(model_preds), squared=False)\n",
    "        print(f'err: {rmse}')\n",
    "        fold_pred_1.append(rmse)\n",
    "\n",
    "    RMSE = np.mean(fold_pred_1)\n",
    "\n",
    "    mlflow.log_param(\"splits\", splits)\n",
    "    mlflow.log_metric(\"rmse\", RMSE)\n",
    "    \n",
    "    with open('models/xgb.bin', 'wb') as f:\n",
    "        pickle.dump(model, f)\n",
    "\n",
    "    mlflow.log_artifact(local_path=\"models/xgb.bin\", artifact_path=\"models_pickle\")\n",
    "    mlflow.xgboost.log_model(model, artifact_path=\"models_mlflow\")"
   ]
  },
  {
   "cell_type": "markdown",
   "metadata": {},
   "source": [
    "## Model Registry"
   ]
  },
  {
   "cell_type": "code",
   "execution_count": 9,
   "metadata": {},
   "outputs": [
    {
     "ename": "AttributeError",
     "evalue": "'MlflowClient' object has no attribute 'list_experiments'",
     "output_type": "error",
     "traceback": [
      "\u001b[0;31m---------------------------------------------------------------------------\u001b[0m",
      "\u001b[0;31mAttributeError\u001b[0m                            Traceback (most recent call last)",
      "Cell \u001b[0;32mIn[9], line 1\u001b[0m\n\u001b[0;32m----> 1\u001b[0m client\u001b[39m.\u001b[39;49mlist_experiments()\n",
      "\u001b[0;31mAttributeError\u001b[0m: 'MlflowClient' object has no attribute 'list_experiments'"
     ]
    }
   ],
   "source": [
    "client.list_experiments()"
   ]
  },
  {
   "cell_type": "markdown",
   "metadata": {},
   "source": [
    "# Hyperparameter Tuning"
   ]
  },
  {
   "cell_type": "code",
   "execution_count": null,
   "metadata": {},
   "outputs": [],
   "source": [
    "import optuna"
   ]
  },
  {
   "cell_type": "code",
   "execution_count": null,
   "metadata": {},
   "outputs": [],
   "source": [
    "# def objective(trial):\n",
    "\n",
    "#     max_depth = trial.suggest_int('rf_max_depth', 2, 32)\n",
    "#     n_estimators = trial.suggest_int('n_estimators', 100, 4000)\n",
    "#     learning_rate = trial.suggest_float('learning_rate', 1e-5, 1e-1, log=True)\n",
    "#     colsample_bytree = trial.suggest_float('colsample_bytree', 0, 1)\n",
    "#     subsample = trial.suggest_float('subsample', 0, 1)\n",
    "\n",
    "#     params = {\n",
    "#         'max_depth':max_depth,\n",
    "#         'colsample_bytree': colsample_bytree,\n",
    "#         'learning_rate': learning_rate,\n",
    "#         'n_estimators': n_estimators,\n",
    "#         'subsample': subsample,\n",
    "#     }\n",
    "\n",
    "#     X_data, X_val, y_data, y_val = data_test_split(X, y, random_state=RANDOM_STATE)\n",
    "\n",
    "#     LGB = CatBoostRegressor(**params)\n",
    "#     LGB.fit(X_data, y_data)\n",
    "#     y_pred = LGB.predict(X_val)\n",
    "\n",
    "#     error = mean_squared_error(y_val, y_pred, squared=False)\n",
    "\n",
    "#     return error  # An objective value linked with the Trial object.\n",
    "\n",
    "#  # Invoke optimization of the objective function."
   ]
  },
  {
   "cell_type": "code",
   "execution_count": null,
   "metadata": {},
   "outputs": [],
   "source": [
    "def objective(trial):\n",
    "\n",
    "    max_depth = trial.suggest_int('rf_max_depth', 2, 16)\n",
    "    n_estimators = trial.suggest_int('n_estimators', 100, 4000)\n",
    "    learning_rate = trial.suggest_float('learning_rate', 1e-5, 1e-1, log=True)\n",
    "#     colsample_bytree = trial.suggest_float('colsample_bytree', 0, 1)\n",
    "    subsample = trial.suggest_float('subsample', 0, 1)\n",
    "\n",
    "    params = {\n",
    "        'max_depth':max_depth,\n",
    "#         'colsample_bytree': colsample_bytree,\n",
    "        'learning_rate': learning_rate,\n",
    "        'n_estimators': n_estimators,\n",
    "        'subsample': subsample,\n",
    "    }\n",
    "\n",
    "    X_data, X_val, y_data, y_val = data_test_split(X, y, random_state=RANDOM_STATE)\n",
    "\n",
    "    CAT = CatBoostRegressor(**params)\n",
    "    CAT.fit(X_data, y_data, verbose=0)\n",
    "    y_pred = CAT.predict(X_val)\n",
    "\n",
    "    error = mean_squared_error(y_val, y_pred, squared=False)\n",
    "\n",
    "    return error  # An objective value linked with the Trial object."
   ]
  },
  {
   "cell_type": "code",
   "execution_count": null,
   "metadata": {},
   "outputs": [
    {
     "name": "stderr",
     "output_type": "stream",
     "text": [
      "[I 2023-08-06 14:25:46,580] A new study created in memory with name: no-name-15fb2ab2-531f-4dff-b48b-b1376f15677d\n",
      "[I 2023-08-06 14:25:53,716] Trial 0 finished with value: 576129.2543902358 and parameters: {'rf_max_depth': 11, 'n_estimators': 529, 'learning_rate': 0.06455367174443834, 'subsample': 0.43625841484720584}. Best is trial 0 with value: 576129.2543902358.\n",
      "/home/gbotemi/.local/lib/python3.10/site-packages/catboost/core.py:1411: FutureWarning: iteritems is deprecated and will be removed in a future version. Use .items instead.\n",
      "  self._init_pool(data, label, cat_features, text_features, embedding_features, embedding_features_data, pairs, weight,\n",
      "[I 2023-08-06 14:26:03,780] Trial 1 finished with value: 671184.3102130804 and parameters: {'rf_max_depth': 7, 'n_estimators': 3050, 'learning_rate': 0.000635824373713653, 'subsample': 0.5551330404486285}. Best is trial 0 with value: 576129.2543902358.\n",
      "/home/gbotemi/.local/lib/python3.10/site-packages/catboost/core.py:1411: FutureWarning: iteritems is deprecated and will be removed in a future version. Use .items instead.\n",
      "  self._init_pool(data, label, cat_features, text_features, embedding_features, embedding_features_data, pairs, weight,\n",
      "[I 2023-08-06 14:26:18,778] Trial 2 finished with value: 562026.9602222078 and parameters: {'rf_max_depth': 8, 'n_estimators': 3403, 'learning_rate': 0.00799484164823344, 'subsample': 0.796443790960059}. Best is trial 2 with value: 562026.9602222078.\n",
      "/home/gbotemi/.local/lib/python3.10/site-packages/catboost/core.py:1411: FutureWarning: iteritems is deprecated and will be removed in a future version. Use .items instead.\n",
      "  self._init_pool(data, label, cat_features, text_features, embedding_features, embedding_features_data, pairs, weight,\n",
      "[I 2023-08-06 14:26:23,031] Trial 3 finished with value: 1070936.4798938944 and parameters: {'rf_max_depth': 6, 'n_estimators': 2455, 'learning_rate': 2.3789497277117303e-05, 'subsample': 0.13411574089767897}. Best is trial 2 with value: 562026.9602222078.\n",
      "/home/gbotemi/.local/lib/python3.10/site-packages/catboost/core.py:1411: FutureWarning: iteritems is deprecated and will be removed in a future version. Use .items instead.\n",
      "  self._init_pool(data, label, cat_features, text_features, embedding_features, embedding_features_data, pairs, weight,\n",
      "[I 2023-08-06 14:26:46,527] Trial 4 finished with value: 1063340.5916521929 and parameters: {'rf_max_depth': 12, 'n_estimators': 1124, 'learning_rate': 6.778579161419899e-05, 'subsample': 0.6998049090034681}. Best is trial 2 with value: 562026.9602222078.\n",
      "/home/gbotemi/.local/lib/python3.10/site-packages/catboost/core.py:1411: FutureWarning: iteritems is deprecated and will be removed in a future version. Use .items instead.\n",
      "  self._init_pool(data, label, cat_features, text_features, embedding_features, embedding_features_data, pairs, weight,\n",
      "[I 2023-08-06 14:26:51,506] Trial 5 finished with value: 1054122.3571465665 and parameters: {'rf_max_depth': 8, 'n_estimators': 1720, 'learning_rate': 5.26413595074852e-05, 'subsample': 0.2564108042031683}. Best is trial 2 with value: 562026.9602222078.\n",
      "/home/gbotemi/.local/lib/python3.10/site-packages/catboost/core.py:1411: FutureWarning: iteritems is deprecated and will be removed in a future version. Use .items instead.\n",
      "  self._init_pool(data, label, cat_features, text_features, embedding_features, embedding_features_data, pairs, weight,\n",
      "[I 2023-08-06 14:29:33,082] Trial 6 finished with value: 997450.2524238636 and parameters: {'rf_max_depth': 16, 'n_estimators': 501, 'learning_rate': 0.00046620704767768125, 'subsample': 0.9311336503844428}. Best is trial 2 with value: 562026.9602222078.\n",
      "/home/gbotemi/.local/lib/python3.10/site-packages/catboost/core.py:1411: FutureWarning: iteritems is deprecated and will be removed in a future version. Use .items instead.\n",
      "  self._init_pool(data, label, cat_features, text_features, embedding_features, embedding_features_data, pairs, weight,\n",
      "[I 2023-08-06 14:29:42,185] Trial 7 finished with value: 1064668.8841885817 and parameters: {'rf_max_depth': 11, 'n_estimators': 739, 'learning_rate': 9.818056473822069e-05, 'subsample': 0.45665563591794267}. Best is trial 2 with value: 562026.9602222078.\n",
      "/home/gbotemi/.local/lib/python3.10/site-packages/catboost/core.py:1411: FutureWarning: iteritems is deprecated and will be removed in a future version. Use .items instead.\n",
      "  self._init_pool(data, label, cat_features, text_features, embedding_features, embedding_features_data, pairs, weight,\n"
     ]
    }
   ],
   "source": [
    "study = optuna.create_study(direction='minimize')  # Create a new study.\n",
    "study.optimize(objective, n_trials=100)"
   ]
  },
  {
   "cell_type": "code",
   "execution_count": null,
   "metadata": {},
   "outputs": [
    {
     "data": {
      "text/plain": [
       "FrozenTrial(number=95, state=TrialState.COMPLETE, values=[551678.5994224877], datetime_start=datetime.datetime(2023, 8, 6, 14, 17, 1, 888573), datetime_complete=datetime.datetime(2023, 8, 6, 14, 17, 7, 916277), params={'rf_max_depth': 26, 'n_estimators': 3679, 'learning_rate': 0.002712819361612371, 'colsample_bytree': 0.9484547548287134, 'subsample': 0.8490126211976283}, user_attrs={}, system_attrs={}, intermediate_values={}, distributions={'rf_max_depth': IntDistribution(high=32, log=False, low=2, step=1), 'n_estimators': IntDistribution(high=4000, log=False, low=100, step=1), 'learning_rate': FloatDistribution(high=0.1, log=True, low=1e-05, step=None), 'colsample_bytree': FloatDistribution(high=1.0, log=False, low=0.0, step=None), 'subsample': FloatDistribution(high=1.0, log=False, low=0.0, step=None)}, trial_id=95, value=None)"
      ]
     },
     "metadata": {},
     "output_type": "display_data"
    }
   ],
   "source": [
    "study.best_trial"
   ]
  },
  {
   "cell_type": "code",
   "execution_count": null,
   "metadata": {},
   "outputs": [],
   "source": [
    "trial = study.best_trial"
   ]
  },
  {
   "cell_type": "code",
   "execution_count": null,
   "metadata": {},
   "outputs": [
    {
     "data": {
      "text/plain": [
       "551678.5994224877"
      ]
     },
     "metadata": {},
     "output_type": "display_data"
    }
   ],
   "source": [
    "trial.value"
   ]
  },
  {
   "cell_type": "code",
   "execution_count": null,
   "metadata": {},
   "outputs": [
    {
     "data": {
      "text/plain": [
       "{'rf_max_depth': 26,\n",
       " 'n_estimators': 3679,\n",
       " 'learning_rate': 0.002712819361612371,\n",
       " 'colsample_bytree': 0.9484547548287134,\n",
       " 'subsample': 0.8490126211976283}"
      ]
     },
     "metadata": {},
     "output_type": "display_data"
    }
   ],
   "source": [
    "trial.params"
   ]
  },
  {
   "cell_type": "code",
   "execution_count": null,
   "metadata": {},
   "outputs": [],
   "source": []
  },
  {
   "cell_type": "code",
   "execution_count": 41,
   "metadata": {},
   "outputs": [],
   "source": [
    "housing_details = {\n",
    "    \"ID\": 343,\n",
    "    \"loc\": \"lagos\",\n",
    "    \"title\": \"Mansion\",\n",
    "    \"bedroom\": 2.0,\n",
    "    \"bathroom\": 1.0,\n",
    "    \"parking_space\" : 2.0\n",
    "}\n"
   ]
  },
  {
   "cell_type": "code",
   "execution_count": 42,
   "metadata": {},
   "outputs": [],
   "source": [
    "x = pd.DataFrame([housing_details])"
   ]
  },
  {
   "cell_type": "code",
   "execution_count": 43,
   "metadata": {},
   "outputs": [],
   "source": [
    "from prepare_features import prepare"
   ]
  },
  {
   "cell_type": "code",
   "execution_count": 44,
   "metadata": {},
   "outputs": [
    {
     "data": {
      "text/html": [
       "<div>\n",
       "<style scoped>\n",
       "    .dataframe tbody tr th:only-of-type {\n",
       "        vertical-align: middle;\n",
       "    }\n",
       "\n",
       "    .dataframe tbody tr th {\n",
       "        vertical-align: top;\n",
       "    }\n",
       "\n",
       "    .dataframe thead th {\n",
       "        text-align: right;\n",
       "    }\n",
       "</style>\n",
       "<table border=\"1\" class=\"dataframe\">\n",
       "  <thead>\n",
       "    <tr style=\"text-align: right;\">\n",
       "      <th></th>\n",
       "      <th>ID</th>\n",
       "      <th>loc</th>\n",
       "      <th>title</th>\n",
       "      <th>bedroom</th>\n",
       "      <th>bathroom</th>\n",
       "      <th>parking_space</th>\n",
       "      <th>zone</th>\n",
       "      <th>rooms</th>\n",
       "      <th>bathroom_ratio</th>\n",
       "    </tr>\n",
       "  </thead>\n",
       "  <tbody>\n",
       "    <tr>\n",
       "      <th>0</th>\n",
       "      <td>343</td>\n",
       "      <td>1.0</td>\n",
       "      <td>10</td>\n",
       "      <td>2.0</td>\n",
       "      <td>1.0</td>\n",
       "      <td>2.0</td>\n",
       "      <td>-1</td>\n",
       "      <td>3.0</td>\n",
       "      <td>0.333333</td>\n",
       "    </tr>\n",
       "  </tbody>\n",
       "</table>\n",
       "</div>"
      ],
      "text/plain": [
       "    ID  loc  title  bedroom  bathroom  parking_space  zone  rooms  \\\n",
       "0  343  1.0     10      2.0       1.0            2.0    -1    3.0   \n",
       "\n",
       "   bathroom_ratio  \n",
       "0        0.333333  "
      ]
     },
     "execution_count": 44,
     "metadata": {},
     "output_type": "execute_result"
    }
   ],
   "source": [
    "prepare(x)"
   ]
  },
  {
   "cell_type": "code",
   "execution_count": 45,
   "metadata": {},
   "outputs": [],
   "source": [
    "MLFLOW_TRACKING_URI = \"sqlite:///mlflow.db\"\n",
    "EXPERIMENT_NAME = 'housing-price'\n",
    "\n",
    "mlflow.set_tracking_uri(MLFLOW_TRACKING_URI)\n",
    "mlflow.set_experiment(EXPERIMENT_NAME)\n",
    "\n",
    "model_registry_name = \"housing_price\"\n",
    "\n",
    "client = MlflowClient()\n",
    "prod_model = client.get_latest_versions(model_registry_name, stages=[\"Production\"])[0]"
   ]
  },
  {
   "cell_type": "code",
   "execution_count": 46,
   "metadata": {},
   "outputs": [
    {
     "data": {
      "text/plain": [
       "<ModelVersion: aliases=[], creation_timestamp=1691950576764, current_stage='Production', description=None, last_updated_timestamp=1691952104895, name='housing_price', run_id='332da12b29be4a7fb4a05ce3e9e9d5ff', run_link=None, source='/home/azureuser/MLOps_zoomcamp/mlruns/1/332da12b29be4a7fb4a05ce3e9e9d5ff/artifacts/model', status='READY', status_message=None, tags={}, user_id=None, version=2>"
      ]
     },
     "execution_count": 46,
     "metadata": {},
     "output_type": "execute_result"
    }
   ],
   "source": [
    "prod_model"
   ]
  },
  {
   "cell_type": "code",
   "execution_count": 47,
   "metadata": {},
   "outputs": [
    {
     "data": {
      "text/plain": [
       "2"
      ]
     },
     "execution_count": 47,
     "metadata": {},
     "output_type": "execute_result"
    }
   ],
   "source": [
    "prod_model.version"
   ]
  },
  {
   "cell_type": "code",
   "execution_count": 48,
   "metadata": {},
   "outputs": [
    {
     "data": {
      "text/plain": [
       "'332da12b29be4a7fb4a05ce3e9e9d5ff'"
      ]
     },
     "execution_count": 48,
     "metadata": {},
     "output_type": "execute_result"
    }
   ],
   "source": [
    "run_id = prod_model.run_id\n",
    "run_id"
   ]
  },
  {
   "cell_type": "code",
   "execution_count": 49,
   "metadata": {},
   "outputs": [
    {
     "data": {
      "text/plain": [
       "'runs:/332da12b29be4a7fb4a05ce3e9e9d5ff/model'"
      ]
     },
     "execution_count": 49,
     "metadata": {},
     "output_type": "execute_result"
    }
   ],
   "source": [
    "logged_model = f'runs:/{run_id}/model'\n",
    "logged_model"
   ]
  },
  {
   "cell_type": "code",
   "execution_count": 50,
   "metadata": {},
   "outputs": [],
   "source": [
    "loaded_model = mlflow.pyfunc.load_model(logged_model)"
   ]
  },
  {
   "cell_type": "code",
   "execution_count": 58,
   "metadata": {},
   "outputs": [
    {
     "data": {
      "text/plain": [
       "1246.8361280347074"
      ]
     },
     "execution_count": 58,
     "metadata": {},
     "output_type": "execute_result"
    }
   ],
   "source": [
    "float(loaded_model.predict(prepare(x))[0])"
   ]
  },
  {
   "cell_type": "code",
   "execution_count": 26,
   "metadata": {},
   "outputs": [],
   "source": []
  },
  {
   "cell_type": "code",
   "execution_count": 21,
   "metadata": {},
   "outputs": [
    {
     "data": {
      "text/plain": [
       "mlflow.pyfunc.loaded_model:\n",
       "  artifact_path: model\n",
       "  flavor: mlflow.lightgbm\n",
       "  run_id: 332da12b29be4a7fb4a05ce3e9e9d5ff"
      ]
     },
     "execution_count": 21,
     "metadata": {},
     "output_type": "execute_result"
    }
   ],
   "source": [
    "loaded_model"
   ]
  },
  {
   "cell_type": "code",
   "execution_count": null,
   "metadata": {},
   "outputs": [],
   "source": [
    "model_name = \"housing_price\"\n",
    "latest_version = client.get_latest_versions(name=model_name)\n",
    "\n",
    "\n",
    "latest_version[0].version\n",
    "\n",
    "client.transition_model_version_stage(\n",
    "    name=model_name,\n",
    "    version=latest_version[0].version,\n",
    "    stage=\"Staging\",\n",
    "    archive_existing_versions=False\n",
    ")"
   ]
  },
  {
   "cell_type": "code",
   "execution_count": 93,
   "metadata": {},
   "outputs": [
    {
     "data": {
      "text/plain": [
       "[<ModelVersion: aliases=[], creation_timestamp=1691952653200, current_stage='None', description=None, last_updated_timestamp=1691952653200, name='housing_price', run_id='332da12b29be4a7fb4a05ce3e9e9d5ff', run_link=None, source='/home/azureuser/MLOps_zoomcamp/mlruns/1/332da12b29be4a7fb4a05ce3e9e9d5ff/artifacts/model', status='READY', status_message=None, tags={}, user_id=None, version=3>,\n",
       " <ModelVersion: aliases=[], creation_timestamp=1691950576764, current_stage='Production', description=None, last_updated_timestamp=1691952104895, name='housing_price', run_id='332da12b29be4a7fb4a05ce3e9e9d5ff', run_link=None, source='/home/azureuser/MLOps_zoomcamp/mlruns/1/332da12b29be4a7fb4a05ce3e9e9d5ff/artifacts/model', status='READY', status_message=None, tags={}, user_id=None, version=2>,\n",
       " <ModelVersion: aliases=[], creation_timestamp=1691853856691, current_stage='Staging', description='', last_updated_timestamp=1691951162335, name='housing_price', run_id='b3de1b48f0f7480c85468b6fb837bd97', run_link='', source='/home/azureuser/MLOps_zoomcamp/mlruns/1/b3de1b48f0f7480c85468b6fb837bd97/artifacts/models_mlflow', status='READY', status_message=None, tags={}, user_id=None, version=1>]"
      ]
     },
     "execution_count": 93,
     "metadata": {},
     "output_type": "execute_result"
    }
   ],
   "source": [
    "client.search_model_versions()"
   ]
  },
  {
   "cell_type": "code",
   "execution_count": 66,
   "metadata": {},
   "outputs": [],
   "source": [
    "experiment = client.get_experiment_by_name(EXPERIMENT_NAME)"
   ]
  },
  {
   "cell_type": "code",
   "execution_count": 75,
   "metadata": {},
   "outputs": [],
   "source": [
    "runs = client.search_runs(\n",
    "    experiment_ids=experiment.experiment_id,\n",
    "    run_view_type=ViewType.ACTIVE_ONLY,\n",
    "    max_results=1,\n",
    "    order_by=[\"metrics.rmse ASC\"]\n",
    ")[0]"
   ]
  },
  {
   "cell_type": "code",
   "execution_count": 76,
   "metadata": {},
   "outputs": [
    {
     "ename": "AttributeError",
     "evalue": "'tuple' object has no attribute 'info'",
     "output_type": "error",
     "traceback": [
      "\u001b[0;31m---------------------------------------------------------------------------\u001b[0m",
      "\u001b[0;31mAttributeError\u001b[0m                            Traceback (most recent call last)",
      "Cell \u001b[0;32mIn[76], line 2\u001b[0m\n\u001b[1;32m      1\u001b[0m \u001b[39mfor\u001b[39;00m run \u001b[39min\u001b[39;00m runs:\n\u001b[0;32m----> 2\u001b[0m     \u001b[39mprint\u001b[39m(\u001b[39mf\u001b[39m\u001b[39m'\u001b[39m\u001b[39mrun_id:\u001b[39m\u001b[39m{\u001b[39;00mrun\u001b[39m.\u001b[39minfo\u001b[39m.\u001b[39mrun_id\u001b[39m}\u001b[39;00m\u001b[39m, rmse:\u001b[39m\u001b[39m{\u001b[39;00mrun\u001b[39m.\u001b[39mdata\u001b[39m.\u001b[39mmetrics[\u001b[39m\"\u001b[39m\u001b[39mrmse\u001b[39m\u001b[39m\"\u001b[39m]\u001b[39m}\u001b[39;00m\u001b[39m'\u001b[39m)\n",
      "\u001b[0;31mAttributeError\u001b[0m: 'tuple' object has no attribute 'info'"
     ]
    }
   ],
   "source": [
    "for run in runs:\n",
    "    print(f'run_id:{run.info.run_id}, rmse:{run.data.metrics[\"rmse\"]}')"
   ]
  },
  {
   "cell_type": "code",
   "execution_count": 81,
   "metadata": {},
   "outputs": [
    {
     "data": {
      "text/plain": [
       "'332da12b29be4a7fb4a05ce3e9e9d5ff'"
      ]
     },
     "execution_count": 81,
     "metadata": {},
     "output_type": "execute_result"
    }
   ],
   "source": [
    "best_run_id = runs.info.run_id\n",
    "best_run_id"
   ]
  },
  {
   "cell_type": "code",
   "execution_count": 82,
   "metadata": {},
   "outputs": [
    {
     "data": {
      "text/plain": [
       "530561.7354094362"
      ]
     },
     "execution_count": 82,
     "metadata": {},
     "output_type": "execute_result"
    }
   ],
   "source": [
    "best_run_metric = runs.data.metrics[\"rmse\"]\n",
    "best_run_metric"
   ]
  },
  {
   "cell_type": "code",
   "execution_count": 83,
   "metadata": {},
   "outputs": [
    {
     "data": {
      "text/plain": [
       "'332da12b29be4a7fb4a05ce3e9e9d5ff'"
      ]
     },
     "execution_count": 83,
     "metadata": {},
     "output_type": "execute_result"
    }
   ],
   "source": [
    "prod_model = client.get_latest_versions(model_registry_name, stages=[\"Production\"])[0]\n",
    "prod_model_run_id = prod_model.run_id\n",
    "prod_model_run_id"
   ]
  },
  {
   "cell_type": "code",
   "execution_count": 84,
   "metadata": {},
   "outputs": [
    {
     "data": {
      "text/plain": [
       "<ModelVersion: aliases=[], creation_timestamp=1691950576764, current_stage='Production', description=None, last_updated_timestamp=1691952104895, name='housing_price', run_id='332da12b29be4a7fb4a05ce3e9e9d5ff', run_link=None, source='/home/azureuser/MLOps_zoomcamp/mlruns/1/332da12b29be4a7fb4a05ce3e9e9d5ff/artifacts/model', status='READY', status_message=None, tags={}, user_id=None, version=2>"
      ]
     },
     "execution_count": 84,
     "metadata": {},
     "output_type": "execute_result"
    }
   ],
   "source": [
    "prod_model"
   ]
  },
  {
   "cell_type": "code",
   "execution_count": 89,
   "metadata": {},
   "outputs": [
    {
     "data": {
      "text/plain": [
       "530561.7354094362"
      ]
     },
     "execution_count": 89,
     "metadata": {},
     "output_type": "execute_result"
    }
   ],
   "source": [
    "client.get_run(run_id=prod_model_run_id).data.metrics[\"rmse\"]"
   ]
  },
  {
   "cell_type": "code",
   "execution_count": null,
   "metadata": {},
   "outputs": [],
   "source": []
  }
 ],
 "metadata": {
  "kernelspec": {
   "display_name": "base",
   "language": "python",
   "name": "python3"
  },
  "language_info": {
   "codemirror_mode": {
    "name": "ipython",
    "version": 3
   },
   "file_extension": ".py",
   "mimetype": "text/x-python",
   "name": "python",
   "nbconvert_exporter": "python",
   "pygments_lexer": "ipython3",
   "version": "3.10.9"
  },
  "orig_nbformat": 4
 },
 "nbformat": 4,
 "nbformat_minor": 2
}
